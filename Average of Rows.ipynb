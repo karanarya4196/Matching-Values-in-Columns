{
 "cells": [
  {
   "cell_type": "markdown",
   "metadata": {},
   "source": [
    "# Average of Rows "
   ]
  },
  {
   "cell_type": "code",
   "execution_count": 1,
   "metadata": {},
   "outputs": [],
   "source": [
    "import pandas as pd"
   ]
  },
  {
   "cell_type": "code",
   "execution_count": 4,
   "metadata": {},
   "outputs": [
    {
     "name": "stderr",
     "output_type": "stream",
     "text": [
      "C:\\Users\\Karan.Arya\\AppData\\Local\\Continuum\\anaconda3\\envs\\py36\\lib\\site-packages\\IPython\\core\\interactiveshell.py:2785: DtypeWarning: Columns (0) have mixed types. Specify dtype option on import or set low_memory=False.\n",
      "  interactivity=interactivity, compiler=compiler, result=result)\n"
     ]
    },
    {
     "data": {
      "text/html": [
       "<div>\n",
       "<style scoped>\n",
       "    .dataframe tbody tr th:only-of-type {\n",
       "        vertical-align: middle;\n",
       "    }\n",
       "\n",
       "    .dataframe tbody tr th {\n",
       "        vertical-align: top;\n",
       "    }\n",
       "\n",
       "    .dataframe thead th {\n",
       "        text-align: right;\n",
       "    }\n",
       "</style>\n",
       "<table border=\"1\" class=\"dataframe\">\n",
       "  <thead>\n",
       "    <tr style=\"text-align: right;\">\n",
       "      <th></th>\n",
       "      <th>Date-Time</th>\n",
       "      <th>Date</th>\n",
       "      <th>Unnamed: 2</th>\n",
       "      <th>Fremont Bridge East Sidewalk</th>\n",
       "      <th>Fremont Bridge West Sidewalk</th>\n",
       "    </tr>\n",
       "  </thead>\n",
       "  <tbody>\n",
       "    <tr>\n",
       "      <th>0</th>\n",
       "      <td>10/3/2012 00:00</td>\n",
       "      <td>10/3/2012</td>\n",
       "      <td>NaN</td>\n",
       "      <td>9.0</td>\n",
       "      <td>4.0</td>\n",
       "    </tr>\n",
       "    <tr>\n",
       "      <th>1</th>\n",
       "      <td>10/3/2012 01:00</td>\n",
       "      <td>10/3/2012</td>\n",
       "      <td>NaN</td>\n",
       "      <td>6.0</td>\n",
       "      <td>4.0</td>\n",
       "    </tr>\n",
       "    <tr>\n",
       "      <th>2</th>\n",
       "      <td>10/3/2012 02:00</td>\n",
       "      <td>10/3/2012</td>\n",
       "      <td>NaN</td>\n",
       "      <td>1.0</td>\n",
       "      <td>1.0</td>\n",
       "    </tr>\n",
       "    <tr>\n",
       "      <th>3</th>\n",
       "      <td>10/3/2012 03:00</td>\n",
       "      <td>10/3/2012</td>\n",
       "      <td>NaN</td>\n",
       "      <td>3.0</td>\n",
       "      <td>2.0</td>\n",
       "    </tr>\n",
       "    <tr>\n",
       "      <th>4</th>\n",
       "      <td>10/3/2012 04:00</td>\n",
       "      <td>10/3/2012</td>\n",
       "      <td>NaN</td>\n",
       "      <td>1.0</td>\n",
       "      <td>6.0</td>\n",
       "    </tr>\n",
       "  </tbody>\n",
       "</table>\n",
       "</div>"
      ],
      "text/plain": [
       "         Date-Time       Date  Unnamed: 2  Fremont Bridge East Sidewalk  \\\n",
       "0  10/3/2012 00:00  10/3/2012         NaN                           9.0   \n",
       "1  10/3/2012 01:00  10/3/2012         NaN                           6.0   \n",
       "2  10/3/2012 02:00  10/3/2012         NaN                           1.0   \n",
       "3  10/3/2012 03:00  10/3/2012         NaN                           3.0   \n",
       "4  10/3/2012 04:00  10/3/2012         NaN                           1.0   \n",
       "\n",
       "   Fremont Bridge West Sidewalk  \n",
       "0                           4.0  \n",
       "1                           4.0  \n",
       "2                           1.0  \n",
       "3                           2.0  \n",
       "4                           6.0  "
      ]
     },
     "execution_count": 4,
     "metadata": {},
     "output_type": "execute_result"
    }
   ],
   "source": [
    "df = pd.read_csv('bicycle.csv')\n",
    "df.head()"
   ]
  },
  {
   "cell_type": "code",
   "execution_count": 8,
   "metadata": {},
   "outputs": [
    {
     "data": {
      "text/plain": [
       "31577      478.5\n",
       "31385      476.0\n",
       "14273      473.0\n",
       "14105      462.5\n",
       "49409      462.0\n",
       "14129      461.5\n",
       "31409      460.5\n",
       "40625      456.5\n",
       "49217      453.5\n",
       "51233      453.0\n",
       "49193      451.5\n",
       "50897      445.5\n",
       "50729      444.5\n",
       "31745      444.5\n",
       "14168      439.5\n",
       "16625      438.5\n",
       "14081      438.0\n",
       "40649      437.0\n",
       "48713      437.0\n",
       "50057      436.5\n",
       "31601      436.5\n",
       "48905      435.5\n",
       "50873      435.5\n",
       "49049      434.5\n",
       "49385      434.0\n",
       "34913      434.0\n",
       "48929      432.5\n",
       "31553      432.0\n",
       "13961      429.0\n",
       "49865      428.5\n",
       "           ...  \n",
       "1048545      NaN\n",
       "1048546      NaN\n",
       "1048547      NaN\n",
       "1048548      NaN\n",
       "1048549      NaN\n",
       "1048550      NaN\n",
       "1048551      NaN\n",
       "1048552      NaN\n",
       "1048553      NaN\n",
       "1048554      NaN\n",
       "1048555      NaN\n",
       "1048556      NaN\n",
       "1048557      NaN\n",
       "1048558      NaN\n",
       "1048559      NaN\n",
       "1048560      NaN\n",
       "1048561      NaN\n",
       "1048562      NaN\n",
       "1048563      NaN\n",
       "1048564      NaN\n",
       "1048565      NaN\n",
       "1048566      NaN\n",
       "1048567      NaN\n",
       "1048568      NaN\n",
       "1048569      NaN\n",
       "1048570      NaN\n",
       "1048571      NaN\n",
       "1048572      NaN\n",
       "1048573      NaN\n",
       "1048574      NaN\n",
       "Name: Average, Length: 1048575, dtype: float64"
      ]
     },
     "execution_count": 8,
     "metadata": {},
     "output_type": "execute_result"
    }
   ],
   "source": [
    "df['Average'] = df.iloc[:, 3:5].mean(axis = 1)\n",
    "df['Average'].sort_values(ascending = False)"
   ]
  }
 ],
 "metadata": {
  "kernelspec": {
   "display_name": "Python 3",
   "language": "python",
   "name": "python3"
  },
  "language_info": {
   "codemirror_mode": {
    "name": "ipython",
    "version": 3
   },
   "file_extension": ".py",
   "mimetype": "text/x-python",
   "name": "python",
   "nbconvert_exporter": "python",
   "pygments_lexer": "ipython3",
   "version": "3.6.6"
  }
 },
 "nbformat": 4,
 "nbformat_minor": 2
}
