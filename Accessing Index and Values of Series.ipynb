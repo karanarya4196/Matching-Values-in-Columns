{
 "cells": [
  {
   "cell_type": "markdown",
   "metadata": {},
   "source": [
    "# Accessing Index and Values of Series"
   ]
  },
  {
   "cell_type": "code",
   "execution_count": 22,
   "metadata": {},
   "outputs": [
    {
     "name": "stderr",
     "output_type": "stream",
     "text": [
      "C:\\Users\\Karan.Arya\\AppData\\Local\\Continuum\\anaconda3\\envs\\py36\\lib\\site-packages\\IPython\\core\\interactiveshell.py:2785: DtypeWarning: Columns (0) have mixed types. Specify dtype option on import or set low_memory=False.\n",
      "  interactivity=interactivity, compiler=compiler, result=result)\n"
     ]
    },
    {
     "data": {
      "text/html": [
       "<div>\n",
       "<style scoped>\n",
       "    .dataframe tbody tr th:only-of-type {\n",
       "        vertical-align: middle;\n",
       "    }\n",
       "\n",
       "    .dataframe tbody tr th {\n",
       "        vertical-align: top;\n",
       "    }\n",
       "\n",
       "    .dataframe thead th {\n",
       "        text-align: right;\n",
       "    }\n",
       "</style>\n",
       "<table border=\"1\" class=\"dataframe\">\n",
       "  <thead>\n",
       "    <tr style=\"text-align: right;\">\n",
       "      <th></th>\n",
       "      <th>Date-Time</th>\n",
       "      <th>Date</th>\n",
       "      <th>Unnamed: 2</th>\n",
       "      <th>Fremont Bridge East Sidewalk</th>\n",
       "      <th>Fremont Bridge West Sidewalk</th>\n",
       "    </tr>\n",
       "  </thead>\n",
       "  <tbody>\n",
       "    <tr>\n",
       "      <th>0</th>\n",
       "      <td>10/3/2012 00:00</td>\n",
       "      <td>10/3/2012</td>\n",
       "      <td>NaN</td>\n",
       "      <td>9.0</td>\n",
       "      <td>4.0</td>\n",
       "    </tr>\n",
       "    <tr>\n",
       "      <th>1</th>\n",
       "      <td>10/3/2012 01:00</td>\n",
       "      <td>10/3/2012</td>\n",
       "      <td>NaN</td>\n",
       "      <td>6.0</td>\n",
       "      <td>4.0</td>\n",
       "    </tr>\n",
       "    <tr>\n",
       "      <th>2</th>\n",
       "      <td>10/3/2012 02:00</td>\n",
       "      <td>10/3/2012</td>\n",
       "      <td>NaN</td>\n",
       "      <td>1.0</td>\n",
       "      <td>1.0</td>\n",
       "    </tr>\n",
       "    <tr>\n",
       "      <th>3</th>\n",
       "      <td>10/3/2012 03:00</td>\n",
       "      <td>10/3/2012</td>\n",
       "      <td>NaN</td>\n",
       "      <td>3.0</td>\n",
       "      <td>2.0</td>\n",
       "    </tr>\n",
       "    <tr>\n",
       "      <th>4</th>\n",
       "      <td>10/3/2012 04:00</td>\n",
       "      <td>10/3/2012</td>\n",
       "      <td>NaN</td>\n",
       "      <td>1.0</td>\n",
       "      <td>6.0</td>\n",
       "    </tr>\n",
       "  </tbody>\n",
       "</table>\n",
       "</div>"
      ],
      "text/plain": [
       "         Date-Time       Date  Unnamed: 2  Fremont Bridge East Sidewalk  \\\n",
       "0  10/3/2012 00:00  10/3/2012         NaN                           9.0   \n",
       "1  10/3/2012 01:00  10/3/2012         NaN                           6.0   \n",
       "2  10/3/2012 02:00  10/3/2012         NaN                           1.0   \n",
       "3  10/3/2012 03:00  10/3/2012         NaN                           3.0   \n",
       "4  10/3/2012 04:00  10/3/2012         NaN                           1.0   \n",
       "\n",
       "   Fremont Bridge West Sidewalk  \n",
       "0                           4.0  \n",
       "1                           4.0  \n",
       "2                           1.0  \n",
       "3                           2.0  \n",
       "4                           6.0  "
      ]
     },
     "execution_count": 22,
     "metadata": {},
     "output_type": "execute_result"
    }
   ],
   "source": [
    "import pandas as pd\n",
    "df = pd.read_csv('bicycle.csv')\n",
    "df.head()"
   ]
  },
  {
   "cell_type": "code",
   "execution_count": 23,
   "metadata": {},
   "outputs": [
    {
     "data": {
      "text/plain": [
       "0            6.5\n",
       "1            5.0\n",
       "2            1.0\n",
       "3            2.5\n",
       "4            3.5\n",
       "5           15.5\n",
       "6           77.5\n",
       "7          176.0\n",
       "8          218.5\n",
       "9          138.0\n",
       "10          59.0\n",
       "11          21.0\n",
       "12          38.0\n",
       "13          45.0\n",
       "14          64.0\n",
       "15          82.0\n",
       "16         157.5\n",
       "17         291.5\n",
       "18         190.0\n",
       "19          64.0\n",
       "20          40.0\n",
       "21          31.5\n",
       "22          24.5\n",
       "23           8.5\n",
       "24           9.0\n",
       "25           1.5\n",
       "26           4.5\n",
       "27           1.5\n",
       "28           4.0\n",
       "29          13.0\n",
       "           ...  \n",
       "1048545      NaN\n",
       "1048546      NaN\n",
       "1048547      NaN\n",
       "1048548      NaN\n",
       "1048549      NaN\n",
       "1048550      NaN\n",
       "1048551      NaN\n",
       "1048552      NaN\n",
       "1048553      NaN\n",
       "1048554      NaN\n",
       "1048555      NaN\n",
       "1048556      NaN\n",
       "1048557      NaN\n",
       "1048558      NaN\n",
       "1048559      NaN\n",
       "1048560      NaN\n",
       "1048561      NaN\n",
       "1048562      NaN\n",
       "1048563      NaN\n",
       "1048564      NaN\n",
       "1048565      NaN\n",
       "1048566      NaN\n",
       "1048567      NaN\n",
       "1048568      NaN\n",
       "1048569      NaN\n",
       "1048570      NaN\n",
       "1048571      NaN\n",
       "1048572      NaN\n",
       "1048573      NaN\n",
       "1048574      NaN\n",
       "Length: 1048575, dtype: float64"
      ]
     },
     "execution_count": 23,
     "metadata": {},
     "output_type": "execute_result"
    }
   ],
   "source": [
    "Fremont_East_West_Average = df.iloc[:, 3:5].mean(axis = 1)\n",
    "Fremont_East_West_Average"
   ]
  },
  {
   "cell_type": "code",
   "execution_count": 24,
   "metadata": {},
   "outputs": [
    {
     "data": {
      "text/plain": [
       "pandas.core.series.Series"
      ]
     },
     "execution_count": 24,
     "metadata": {},
     "output_type": "execute_result"
    }
   ],
   "source": [
    "type(Fremont_East_West_Average)"
   ]
  },
  {
   "cell_type": "markdown",
   "metadata": {},
   "source": [
    "## Accessing Index of Series"
   ]
  },
  {
   "cell_type": "code",
   "execution_count": 25,
   "metadata": {},
   "outputs": [
    {
     "data": {
      "text/plain": [
       "0"
      ]
     },
     "execution_count": 25,
     "metadata": {},
     "output_type": "execute_result"
    }
   ],
   "source": [
    "Fremont_East_West_Average.index[0]"
   ]
  },
  {
   "cell_type": "markdown",
   "metadata": {},
   "source": [
    "## Accessing Value of Series"
   ]
  },
  {
   "cell_type": "code",
   "execution_count": 26,
   "metadata": {},
   "outputs": [
    {
     "data": {
      "text/plain": [
       "6.5"
      ]
     },
     "execution_count": 26,
     "metadata": {},
     "output_type": "execute_result"
    }
   ],
   "source": [
    "Fremont_East_West_Average[0]"
   ]
  }
 ],
 "metadata": {
  "kernelspec": {
   "display_name": "Python 3",
   "language": "python",
   "name": "python3"
  },
  "language_info": {
   "codemirror_mode": {
    "name": "ipython",
    "version": 3
   },
   "file_extension": ".py",
   "mimetype": "text/x-python",
   "name": "python",
   "nbconvert_exporter": "python",
   "pygments_lexer": "ipython3",
   "version": "3.6.6"
  }
 },
 "nbformat": 4,
 "nbformat_minor": 2
}
