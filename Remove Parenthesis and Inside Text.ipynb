{
 "cells": [
  {
   "cell_type": "markdown",
   "metadata": {},
   "source": [
    "# Remove Parenthesis and Inside Text"
   ]
  },
  {
   "cell_type": "code",
   "execution_count": 1,
   "metadata": {},
   "outputs": [],
   "source": [
    "import pandas as pd"
   ]
  },
  {
   "cell_type": "code",
   "execution_count": 3,
   "metadata": {},
   "outputs": [],
   "source": [
    "df = pd.read_excel('Energy Indicators.xls')\n",
    "df = df.iloc[16:243]"
   ]
  },
  {
   "cell_type": "code",
   "execution_count": 5,
   "metadata": {
    "scrolled": false
   },
   "outputs": [
    {
     "data": {
      "text/plain": [
       "Unnamed: 0                                                       NaN\n",
       "Unnamed: 1                          Bolivia (Plurinational State of)\n",
       "Environmental Indicators: Energy    Bolivia (Plurinational State of)\n",
       "Unnamed: 3                                                       336\n",
       "Unnamed: 4                                                        32\n",
       "Unnamed: 5                                                   31.4771\n",
       "Name: 40, dtype: object"
      ]
     },
     "execution_count": 5,
     "metadata": {},
     "output_type": "execute_result"
    }
   ],
   "source": [
    "df.iloc[24]"
   ]
  },
  {
   "cell_type": "code",
   "execution_count": 8,
   "metadata": {},
   "outputs": [],
   "source": [
    "df['Unnamed: 1'] = df['Unnamed: 1'].str.replace(r\" \\(.*\\)\",\"\")\n",
    "df['Environmental Indicators: Energy'] = df['Environmental Indicators: Energy'].str.replace(r\" \\(.*\\)\",\"\")"
   ]
  },
  {
   "cell_type": "code",
   "execution_count": 9,
   "metadata": {},
   "outputs": [
    {
     "data": {
      "text/plain": [
       "Unnamed: 0                              NaN\n",
       "Unnamed: 1                          Bolivia\n",
       "Environmental Indicators: Energy    Bolivia\n",
       "Unnamed: 3                              336\n",
       "Unnamed: 4                               32\n",
       "Unnamed: 5                          31.4771\n",
       "Name: 40, dtype: object"
      ]
     },
     "execution_count": 9,
     "metadata": {},
     "output_type": "execute_result"
    }
   ],
   "source": [
    "df.iloc[24]"
   ]
  },
  {
   "cell_type": "markdown",
   "metadata": {},
   "source": [
    "### `Bolivia (Plurinational State of)` has been renamed to `Bolivia`"
   ]
  }
 ],
 "metadata": {
  "kernelspec": {
   "display_name": "Python 3",
   "language": "python",
   "name": "python3"
  },
  "language_info": {
   "codemirror_mode": {
    "name": "ipython",
    "version": 3
   },
   "file_extension": ".py",
   "mimetype": "text/x-python",
   "name": "python",
   "nbconvert_exporter": "python",
   "pygments_lexer": "ipython3",
   "version": "3.6.6"
  }
 },
 "nbformat": 4,
 "nbformat_minor": 2
}
